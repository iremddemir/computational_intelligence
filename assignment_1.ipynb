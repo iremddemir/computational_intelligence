{
  "cells": [
    {
      "cell_type": "markdown",
      "metadata": {
        "id": "QRBDdr0SEqpT"
      },
      "source": [
        "# Assignment 1"
      ]
    },
    {
      "cell_type": "markdown",
      "metadata": {
        "id": "8xd57TRzExEr"
      },
      "source": [
        "**Assignment 1: Optimization**\n",
        "\n",
        "**Goal**: ​Get familiar with gradient-based and derivative-free optimization by implementing these methods and applying them to a given function."
      ]
    },
    {
      "cell_type": "markdown",
      "metadata": {
        "id": "yHNgWB1iFDu5"
      },
      "source": [
        "In this assignment we are going to learn about **gradient-based** (GD) optimization methods and **derivative-free optimization** (DFO) methods. The goal is to implement these methods (one from each group) and analyze their behavior. Importantly, we aim at noticing differences between these two groups of methods.\n",
        "\n",
        "Here, we are interested in ​minimizing​ the following function:\n",
        "\n",
        "$$\n",
        "f(\\mathbf{x})=x_{1}^{2}+2 x_{2}^{2}-0.3 \\cos \\left(3 \\pi x_{1}\\right)-0.4 \\cos \\left(4 \\pi x_{2}\\right)+0.7\n",
        "$$\n",
        "\n",
        "in the domain $\\mathbf{x} = (x_1, x_2) \\in [-100, 100]^{2}$ (i.e., $x_1 \\in [-100, 100]$, $x_2 \\in [-100, 100]$).\n",
        "\n",
        "In this assignemnt, you are asked to implement:\n",
        "1. The gradient-descent algorithm.\n",
        "2. A chosen derivative-free algorithm. *You are free to choose a method.*\n",
        "\n",
        "After implementing both methods, please run experiments and compare both methods. Please find a more detailed description below."
      ]
    },
    {
      "cell_type": "markdown",
      "metadata": {
        "id": "Jxgc7c--P0GH"
      },
      "source": [
        "## 1. Understanding the objective"
      ]
    },
    {
      "cell_type": "markdown",
      "metadata": {
        "id": "oRteDLEPP3eX"
      },
      "source": [
        "Please run the code below and visualize the objective function. Please try to understand the objective function, what is the optimum (you can do it by inspecting the plot).\n",
        "\n",
        "If any code line is unclear to you, please read on that in numpy or matplotlib docs."
      ]
    },
    {
      "cell_type": "code",
      "execution_count": 1,
      "metadata": {
        "id": "g4wCnPRz-MaE"
      },
      "outputs": [],
      "source": [
        "import numpy as np\n",
        "import matplotlib.pyplot as plt"
      ]
    },
    {
      "cell_type": "code",
      "execution_count": 2,
      "metadata": {
        "id": "JzHAz9R5-dfQ"
      },
      "outputs": [],
      "source": [
        "# PLEASE DO NOT REMOVE!\n",
        "# The objective function.\n",
        "def f(x):\n",
        "    return x[:,0]**2 + 2*x[:,1]**2 -0.3*np.cos(3.*np.pi*x[:,0])-0.4*np.cos(4.*np.pi*x[:,1])+0.7"
      ]
    },
    {
      "cell_type": "code",
      "execution_count": 3,
      "metadata": {
        "id": "Qs3gdKfAC25-"
      },
      "outputs": [],
      "source": [
        "# PLEASE DO NOT REMOVE!\n",
        "# Calculating the objective for visualization.\n",
        "def calculate_f(x1, x2):\n",
        "  f_x = []\n",
        "  for i in range(len(x1)):\n",
        "    for j in range(len(x2)):\n",
        "      f_x.append(f(np.asarray([[x1[i], x2[j]]])))\n",
        "    \n",
        "  return np.asarray(f_x).reshape(len(x1), len(x2))"
      ]
    },
    {
      "cell_type": "code",
      "execution_count": 4,
      "metadata": {
        "id": "DdDjKDRI-u76"
      },
      "outputs": [],
      "source": [
        "# PLEASE DO NOT REMOVE!\n",
        "# Define coordinates\n",
        "x1 = np.linspace(-100., 100., 400)\n",
        "x2 = np.linspace(-100., 100., 400)\n",
        "\n",
        "# Calculate the objective\n",
        "f_x = calculate_f(x1, x2).reshape(len(x1), len(x2))"
      ]
    },
    {
      "cell_type": "code",
      "execution_count": 5,
      "metadata": {
        "id": "QtAKEWqt_Mkt"
      },
      "outputs": [
        {
          "data": {
            "text/plain": [
              "<matplotlib.colorbar.Colorbar at 0x7f93d911ac90>"
            ]
          },
          "execution_count": 5,
          "metadata": {},
          "output_type": "execute_result"
        },
        {
          "data": {
            "image/png": "[encoded data removed]",
            "text/plain": [
              "<Figure size 432x288 with 2 Axes>"
            ]
          },
          "metadata": {
            "needs_background": "light"
          },
          "output_type": "display_data"
        }
      ],
      "source": [
        "# PLEASE DO NOT REMOVE!\n",
        "# Plot the objective\n",
        "plt.contourf(x1, x2, f_x, 100, cmap='hot')\n",
        "plt.colorbar()"
      ]
    },
    {
      "cell_type": "markdown",
      "metadata": {
        "id": "wgc_GFOyRBEi"
      },
      "source": [
        "## 2. The gradient-descent algorithm"
      ]
    },
    {
      "cell_type": "markdown",
      "metadata": {
        "id": "gDVf1vyORGUB"
      },
      "source": [
        "First, you are asked to implement the gradient descent (GD) algorithm. Please take a look at the class below and fill in the missing parts.\n",
        "\n",
        "NOTE: Please pay attention to the inputs and outputs of each function.\n",
        "\n",
        "NOTE: To implement the GD algorithm, we need a gradient with respect to $\\mathbf{x}$ of the given function. Please calculate it on a paper and provide the solution below. Then, implement it in an appropriate function that will be further passed to the GD class."
      ]
    },
    {
      "cell_type": "markdown",
      "metadata": {
        "id": "76QTS-BHRlch"
      },
      "source": [
        "**Question 1 (0-1pt):** What is the gradient of the function $f(\\mathbf{x})$?\n",
        "\n",
        "**Answer:**\n",
        "f was the following:\n",
        "$$\n",
        "f(\\mathbf{x})=x_{1}^{2}+2 x_{2}^{2}-0.3 \\cos \\left(3 \\pi x_{1}\\right)-0.4 \\cos \\left(4 \\pi x_{2}\\right)+0.7 \\\\\n",
        "$$\n",
        "\n",
        "\\begin{align*}\n",
        "\\nabla_{\\mathbf{x}_1} f(\\mathbf{x}) &=  2x_1 + 0.3*3*\\pi * \\sin(3\\pi x_1)  \\\\\n",
        "\\nabla_{\\mathbf{x}_2} f(\\mathbf{x}) &= 4x_2 + 0.4*4*\\pi * \\sin(4\\pi x_2)  \\\\\n",
        "\\end{align*}"
      ]
    },
    {
      "cell_type": "code",
      "execution_count": 6,
      "metadata": {
        "id": "Qq5nJgLXT4v4"
      },
      "outputs": [],
      "source": [
        "#=========\n",
        "# GRADING:\n",
        "# 0\n",
        "# 0.5pt - if properly implemented and commented well\n",
        "#=========\n",
        "# Implement the gradient for the considered f(x).\n",
        "def grad(x):\n",
        "  #------\n",
        "  # PLEASE FILL IN:\n",
        "  grad_x1 = 2*x[:,0] - 0.3*3*np.pi*np.sin(3*np.pi*x[:,0])\n",
        "  grad_x2 = 4*x[:,1] - 0.4*4*np.pi*np.sin(4*np.pi*x[:,1])\n",
        "  grad = np.vstack((grad_x1, grad_x2)).T\n",
        "  #------\n",
        "  return grad"
      ]
    },
    {
      "cell_type": "code",
      "execution_count": 7,
      "metadata": {
        "id": "Vtv_pAkmOrS3"
      },
      "outputs": [],
      "source": [
        "#=========\n",
        "# GRADING:\n",
        "# 0\n",
        "# 0.5pt if properly implemented and commented well\n",
        "#=========\n",
        "# Implement the gradient descent (GD) optimization algorithm. \n",
        "# It is equivalent to implementing the step function.\n",
        "class GradientDescent(object):\n",
        "  def __init__(self, grad, step_size=0.1):\n",
        "    self.grad = grad\n",
        "    self.step_size = step_size    \n",
        "\n",
        "  def step(self, x_old):\n",
        "    #------\n",
        "    # PLEASE FILL IN:\n",
        "    # gradient descent step\n",
        "    x_new = x_old - self.step_size*self.grad(x_old)\n",
        "    #------\n",
        "    return x_new"
      ]
    },
    {
      "cell_type": "code",
      "execution_count": 8,
      "metadata": {
        "id": "gNCsf37T4gcp"
      },
      "outputs": [],
      "source": [
        "# PLEASE DO NOT REMOVE!\n",
        "# An auxiliary function for plotting.\n",
        "def plot_optimization_process(ax, optimizer, title):\n",
        "  # Plot the objective function\n",
        "  ax.contourf(x1, x2, f_x, 100, cmap='hot')\n",
        "\n",
        "  # Init the solution\n",
        "  x = np.asarray([[90., -90.]])\n",
        "  x_opt = x\n",
        "  # Run the optimization algorithm\n",
        "  for i in range(num_epochs):\n",
        "    x = optimizer.step(x)\n",
        "    x_opt = np.concatenate((x_opt, x), 0)\n",
        "\n",
        "  ax.plot(x_opt[:,0], x_opt[:,1], linewidth=3.)\n",
        "  ax.set_title(title)"
      ]
    },
    {
      "cell_type": "code",
      "execution_count": 9,
      "metadata": {
        "id": "s6meSu2l5gYw"
      },
      "outputs": [
        {
          "data": {
            "image/png": "[encoded data removed]",
            "text/plain": [
              "<Figure size 1080x144 with 6 Axes>"
            ]
          },
          "metadata": {
            "needs_background": "light"
          },
          "output_type": "display_data"
        }
      ],
      "source": [
        "# PLEASE DO NOT REMOVE!\n",
        "# This piece of code serves for the analysis.\n",
        "# Running the GD algorithm with different step sizes\n",
        "num_epochs = 20 # the number of epochs\n",
        "step_sizes = [0.01, 0.05, 0.1, 0.25, 0.4, 0.5] # the step sizes\n",
        "\n",
        "# plotting the convergence of the GD\n",
        "fig_gd, axs = plt.subplots(1,len(step_sizes),figsize=(15, 2))\n",
        "fig_gd.tight_layout()\n",
        "\n",
        "for i in range(len(step_sizes)):\n",
        "  # take the step size\n",
        "  step_size = step_sizes[i]\n",
        "  # init the GD\n",
        "  gd = GradientDescent(grad, step_size=step_size)\n",
        "  # plot the convergence\n",
        "  plot_optimization_process(axs[i], optimizer=gd, title='Step size ' + str(gd.step_size))"
      ]
    },
    {
      "cell_type": "markdown",
      "metadata": {
        "id": "5KBcdBUEDRLF"
      },
      "source": [
        "**Question 2 (0-0.5pt)**: Please analyze the plots above and comment on the behavior of the gradient-descent for different values of the step size.\n",
        "\n",
        "**Answer**: \n",
        "| Step size | Analysis |\n",
        "|-----------|----------|\n",
        "| 0.01    | The algorithm could not converge to minimum in the epoch limit. This can be explained by the fact that the step size is too small. |\n",
        "| 0.05 | It converges to the minimum in nice way in the sense that the function value is decreasing and does not show any oscillations. |\n",
        "| 0.1 | It converges to the minimum in nice way in the sense that the function value is decreasing and does not show any oscillations as in the 0.05 step size |\n",
        "| 0.25| It converges to the minimum in nice way in the sense that the function value is decreasing and does not show any oscillations but it has sharp changes compared to 0.05 and 0.1 step sizes. |\n",
        "| 0.4 | It converges with sharp changes to minimum however when the function value is close to the minimum, it oscillates around the minimum. |\n",
        "| 0.5 | It converges with sharp changes to minimum however it does not converge to minimum and goes out of the minimum area, this can be explained by the fact that the step size is too large. |"
      ]
    },
    {
      "cell_type": "markdown",
      "metadata": {
        "id": "iR_twjU-vJLz"
      },
      "source": [
        "\n",
        "**Question 3 (0-0.5pt)**: What could we do to increase the convergence when the step size equals 0.01? What about when the step size equals 0.5?\n",
        "\n",
        "**Answer**: \n",
        "| Step size | Comment |\n",
        "|-----------|----------|\n",
        "| 0.01    | We can increase the number of epochs to increase the convergence as the problem is that the algorithm does not converge to the minimum in the epoch limit but is in the path that can converge to the minimum. |\n",
        "| 0.5 | We can decrease the step size to increase the convergence as the problem is that the algorithm does not converge to the minimum and goes out of the minimum area. |"
      ]
    },
    {
      "cell_type": "markdown",
      "metadata": {
        "id": "mAMgPBGV_oJu"
      },
      "source": [
        "## 3. The derivative-free optimization"
      ]
    },
    {
      "cell_type": "markdown",
      "metadata": {
        "id": "inAKXR7w_svO"
      },
      "source": [
        "In the second part of this assignment, you are asked to implement a derivative-free optimziation (DFO) algorithm. Please notice that you are free to choose any DFO method you wish.\n",
        "Moreover, you are encouraged to be as imaginative as possible! Do you have an idea for a new method or combine multiple methods? Great! "
      ]
    },
    {
      "cell_type": "markdown",
      "metadata": {
        "id": "b_-dEK1uCO3n"
      },
      "source": [
        "**Question 4 (0-0.5-1-1.5-2-2.5-3pt)**: Please provide a description (a pseudocode) of your DFO method here.\n",
        "\n",
        "*NOTE (grading): Please keep in mind: start simple, make sure your approach works. You are encouraged to use your creativity and develop more complex approaches that will influence the grading. TAs will also check whether the pseudocode is correct.*\n",
        "\n",
        "**Answer:** PLEASE FILL IN\n",
        "\n",
        "*Input:* PLEASE FILL IN\n",
        "\n",
        "1. PLEASE FILL IN\n",
        "2. ..."
      ]
    },
    {
      "cell_type": "code",
      "execution_count": null,
      "metadata": {
        "id": "hn_mYv2c6T4-"
      },
      "outputs": [],
      "source": [
        "#=========\n",
        "# GRADING: 0-0.5-1-1.5-2pt\n",
        "# 0\n",
        "# 0.5pt the code works but it is very messy and unclear\n",
        "# 1.0pt the code works but it is messy and badly commented\n",
        "# 1.5pt the code works but it is hard to follow in some places\n",
        "# 2.0pt the code works and it is fully understandable\n",
        "#=========\n",
        "# Implement a derivative-free optimization (DFO) algorithm. \n",
        "# REMARK: during the init, you are supposed to pass the obj_fun and other objects that are necessary in your method.\n",
        "class DFO(object):\n",
        "  def __init__(self, obj_fun, step_size):\n",
        "    self.obj_fun = obj_fun\n",
        "    # PLEASE FILL IN: You will need some other variables\n",
        "    self.step_size = step_size\n",
        "  \n",
        "  ## PLEASE FILL IN IF NECESSARY\n",
        "  ## Please remember that for the DFO you may need extra functions.\n",
        "  #def ...\n",
        "\n",
        "  # This function MUST be implemented.\n",
        "  # No additional arguments here!\n",
        "  def step(self, x_old):\n",
        "    ## PLEASE FILL IN.\n",
        "    #...\n",
        "    #x_new = ...\n",
        "    return x_new"
      ]
    },
    {
      "cell_type": "code",
      "execution_count": null,
      "metadata": {
        "id": "VMwwd_6zEZF6"
      },
      "outputs": [],
      "source": [
        "# PLEASE DO NOT REMOVE!\n",
        "# Running the DFO algorithm with different step sizes\n",
        "num_epochs = 20 # the number of epochs (you may change it!)\n",
        "\n",
        "## PLEASE FILL IN\n",
        "## Here all hyperparameters go.\n",
        "## Please analyze at least one hyperparameter in a similar manner to the \n",
        "## step size in the GD algorithm.\n",
        "# step sizes from GD cell\n",
        "step_sizes = [0.01, 0.05, 0.1, 0.25, 0.4, 0.5] # the step sizes\n",
        "\n",
        "## plotting the convergence of the DFO\n",
        "## Please uncomment the two lines below, but please provide the number of axes (replace HERE appriopriately)\n",
        "# fig_dfo, axs = plt.subplots(1, HERE, figsize=(15, 2))\n",
        "# fig_dfo.tight_layout()\n",
        "\n",
        "# the for-loop should go over (at least one) parameter(s) (replace HERE appriopriately)\n",
        "# and uncomment the line below\n",
        "for i in range(len(step_sizes)):\n",
        "\n",
        "  ## PLEASE FILL IN\n",
        "  # ...\n",
        "  dfo = DFO(f, step_size=step_sizes[i])\n",
        "  # plot the convergence\n",
        "  # please change the title accordingly!\n",
        "  plot_optimization_process(axs[i], optimizer=dfo, title='')"
      ]
    },
    {
      "cell_type": "markdown",
      "metadata": {
        "id": "4omq4-84e3mX"
      },
      "source": [
        "**Question 5 (0-0.5-1pt)** Please comment on the behavior of your DFO algorithm. What are the strong points? What are the (potential) weak points? During working on the algorithm, what kind of problems did you encounter?\n",
        "\n",
        "**Answer:** PLEASE FILL IN"
      ]
    },
    {
      "cell_type": "markdown",
      "metadata": {
        "id": "oFX-DzH9ftPg"
      },
      "source": [
        "## 4. Final remarks: GD vs. DFO"
      ]
    },
    {
      "cell_type": "markdown",
      "metadata": {
        "id": "2-TFtGdZfz3a"
      },
      "source": [
        "Eventually, please answer the following last question that will allow you to conclude the assignment draw conclusions.\n",
        "\n",
        "**Question 6 (0-0.5pt)**: What are differences between the two approaches?\n",
        "\n",
        "**Answer**: PLEASE FILL IN"
      ]
    },
    {
      "cell_type": "markdown",
      "metadata": {
        "id": "5rlm5WVT_Uhd"
      },
      "source": [
        "**Question 7 (0-0.5)**: Which of the is easier to apply? Why? In what situations? Which of them is easier to implement in general?\n",
        "\n",
        "**Answer**: PLEASE FILL IN"
      ]
    }
  ],
  "metadata": {
    "colab": {
      "provenance": [],
      "toc_visible": true
    },
    "kernelspec": {
      "display_name": "Python 3.7.10 ('comp411')",
      "language": "python",
      "name": "python3"
    },
    "language_info": {
      "codemirror_mode": {
        "name": "ipython",
        "version": 3
      },
      "file_extension": ".py",
      "mimetype": "text/x-python",
      "name": "python",
      "nbconvert_exporter": "python",
      "pygments_lexer": "ipython3",
      "version": "3.7.10"
    },
    "vscode": {
      "interpreter": {
        "hash": "c40dd6e9603a48eda36538272fd95ed3b36cd00a3b7df7195515789ffdf02208"
      }
    }
  },
  "nbformat": 4,
  "nbformat_minor": 0
}
