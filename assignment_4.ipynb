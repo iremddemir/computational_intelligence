{
  "cells": [
    {
      "cell_type": "markdown",
      "metadata": {
        "id": "QRBDdr0SEqpT"
      },
      "source": [
        "# Assignment 4"
      ]
    },
    {
      "cell_type": "markdown",
      "metadata": {
        "id": "8xd57TRzExEr"
      },
      "source": [
        "**Assignment 4: Neural Networks**\n",
        "\n",
        "**Goal**: ​Get familiar with neural networks by implementing them and applying them to image classification."
      ]
    },
    {
      "cell_type": "markdown",
      "metadata": {
        "id": "yHNgWB1iFDu5"
      },
      "source": [
        "In this assignment we are going to learn about neural networks (NNs). The goal is to implement two neural networks: a fully-connected neural network, a convolutional neural network, and analyze their behavior.\n",
        "\n",
        "The considered task is image classification. We consider a dataset of small natural images (see the additional file) with multiple classes. We aim at formulating a model (a neural network) and learning it using the negative log-likelihood function (i.e., the cross-entropy loss) as the objective function, and the stochastic gradient descent as the optimizer.\n",
        "\n",
        "In this assignment, ​**the code must be implemented in PyTorch**."
      ]
    },
    {
      "cell_type": "markdown",
      "metadata": {
        "id": "Jxgc7c--P0GH"
      },
      "source": [
        "## 1 Understanding the problem\n",
        "\n"
      ]
    },
    {
      "cell_type": "markdown",
      "metadata": {
        "id": "oRteDLEPP3eX"
      },
      "source": [
        "The considered problem is about classifying images to $L$ classes. In the first part of the assignment, you are asked get familiar with PyTorch, a deep learning library, and the basics of neural networks, and implement neural-network-based classifiers. For this purpose, we will start with classifying small images (8px x 8px) of handwritten digits to one of 10 classes. The dataset is very small and all experiments could be achieved within a couple of minutes.\n",
        "\n",
        "In the second part, you are asked to implement the whole pipeline for a given dataset by yourself.\n",
        "\n",
        "Please run the code below and spend a while on analyzing the images.\n",
        "\n",
        "If any code line is unclear to you, please read on that in numpy, scipy, matplotlib and PyTorch docs."
      ]
    },
    {
      "cell_type": "code",
      "execution_count": 2,
      "metadata": {
        "id": "g4wCnPRz-MaE"
      },
      "outputs": [],
      "source": [
        "import os\n",
        "\n",
        "import matplotlib.pyplot as plt\n",
        "import numpy as np\n",
        "import torch\n",
        "import torch.nn as nn\n",
        "import torch.nn.functional as F\n",
        "from sklearn import datasets\n",
        "from sklearn.datasets import load_digits\n",
        "from torch.utils.data import DataLoader, Dataset\n",
        "\n",
        "EPS = 1.0e-7"
      ]
    },
    {
      "cell_type": "code",
      "execution_count": null,
      "metadata": {
        "colab": {
          "base_uri": "https://localhost:8080/"
        },
        "id": "mRmwbuamRuge",
        "outputId": "7d39e7d2-edd3-4d73-8513-c4c13b8f6923"
      },
      "outputs": [
        {
          "name": "stdout",
          "output_type": "stream",
          "text": [
            "Mounted at /content/gdrive\n"
          ]
        }
      ],
      "source": [
        "# IF YOU USE COLAB, THIS IS VERY USEFUL! OTHERWISE, PLEASE REMOVE IT.\n",
        "# mount drive: WE NEED IT FOR SAVING IMAGES!\n",
        "from google.colab import drive\n",
        "\n",
        "drive.mount(\"/content/gdrive\")"
      ]
    },
    {
      "cell_type": "code",
      "execution_count": null,
      "metadata": {
        "id": "KEiEJE5sRvjc"
      },
      "outputs": [],
      "source": [
        "# IF YOU USE COLAB, THIS IS VERY USEFUL! OTHERWISE, PLEASE REMOVE IT.\n",
        "# PLEASE CHANGE IT TO YOUR OWN GOOGLE DRIVE!\n",
        "#results_dir = \"/content/gdrive/My_Drive/Colab Notebooks/TEACHING/\"\n",
        "\n",
        "results_dir = \"/content/gdrive/MyDrive/CI\""
      ]
    },
    {
      "cell_type": "code",
      "execution_count": null,
      "metadata": {
        "id": "Xm4e0Utl-30c"
      },
      "outputs": [],
      "source": [
        "# PLEASE DO NOT REMOVE!\n",
        "# This is a class for the dataset of small (8px x 8px) digits.\n",
        "# Please try to understand in details how it works!\n",
        "class Digits(Dataset):\n",
        "    \"\"\"Scikit-Learn Digits dataset.\"\"\"\n",
        "\n",
        "    def __init__(self, mode=\"train\", transforms=None):\n",
        "        digits = load_digits()\n",
        "        if mode == \"train\":\n",
        "            self.data = digits.data[:1000].astype(np.float32)\n",
        "            self.targets = digits.target[:1000]\n",
        "        elif mode == \"val\":\n",
        "            self.data = digits.data[1000:1350].astype(np.float32)\n",
        "            self.targets = digits.target[1000:1350]\n",
        "        else:\n",
        "            self.data = digits.data[1350:].astype(np.float32)\n",
        "            self.targets = digits.target[1350:]\n",
        "\n",
        "        self.transforms = transforms\n",
        "\n",
        "    def __len__(self):\n",
        "        return len(self.data)\n",
        "\n",
        "    def __getitem__(self, idx):\n",
        "        sample_x = self.data[idx]\n",
        "        sample_y = self.targets[idx]\n",
        "        if self.transforms:\n",
        "            sample_x = self.transforms(sample_x)\n",
        "        return (sample_x, sample_y)"
      ]
    },
    {
      "cell_type": "code",
      "execution_count": null,
      "metadata": {
        "colab": {
          "base_uri": "https://localhost:8080/",
          "height": 370
        },
        "id": "bnDz_yGeuOnh",
        "outputId": "9cdbadad-78b9-4c8e-98c3-ca51a8757863"
      },
      "outputs": [
        {
          "data": {
            "image/png": "[encoded data removed]",
            "text/plain": [
              "<Figure size 400x400 with 16 Axes>"
            ]
          },
          "metadata": {},
          "output_type": "display_data"
        }
      ],
      "source": [
        "# PLEASE DO NOT REMOVE\n",
        "# Here, we plot some images (8px x 8px).\n",
        "digits = load_digits()\n",
        "x = digits.data[:16].astype(np.float32)\n",
        "\n",
        "fig_data, axs = plt.subplots(4, 4, figsize=(4, 4))\n",
        "fig_data.tight_layout()\n",
        "\n",
        "for i in range(4):\n",
        "    for j in range(4):\n",
        "        img = np.reshape(x[4 * i + j], (8, 8))\n",
        "        axs[i, j].imshow(img, cmap=\"gray\")\n",
        "        axs[i, j].axis(\"off\")"
      ]
    },
    {
      "cell_type": "markdown",
      "metadata": {
        "id": "wgc_GFOyRBEi"
      },
      "source": [
        "## 2 Neural Networks for Digits (4pt)"
      ]
    },
    {
      "cell_type": "markdown",
      "metadata": {
        "id": "gDVf1vyORGUB"
      },
      "source": [
        "In this assignment, you are asked to implement a neural network (NN) classifier. Please take a look at the class below and fill in the missing parts.\n",
        "\n",
        "NOTE: Please pay attention to the inputs and outputs of each function."
      ]
    },
    {
      "cell_type": "markdown",
      "metadata": {
        "id": "iwuEfxSKpFtD"
      },
      "source": [
        "### 2.1 Neural Network Classifier"
      ]
    },
    {
      "cell_type": "markdown",
      "metadata": {
        "id": "9FThxxdkpKcQ"
      },
      "source": [
        "Below, we have two helper modules (layers) that can be used to reshape and flatten a tensor. They are useful for creating sequentials with convolutional layers."
      ]
    },
    {
      "cell_type": "code",
      "execution_count": null,
      "metadata": {
        "id": "5AB5Ch63Ak01"
      },
      "outputs": [],
      "source": [
        "# PLEASE DO NOT REMOVE!\n",
        "# Here are two auxiliary functions that can be used for a convolutional NN (CNN).\n",
        "\n",
        "\n",
        "# This module reshapes an input (matrix -> tensor).\n",
        "class Reshape(nn.Module):\n",
        "    def __init__(self, size):\n",
        "        super(Reshape, self).__init__()\n",
        "        self.size = size  # a list\n",
        "\n",
        "    def forward(self, x):\n",
        "        assert x.shape[1] == np.prod(self.size)\n",
        "        return x.view(x.shape[0], *self.size)\n",
        "\n",
        "\n",
        "# This module flattens an input (tensor -> matrix) by blending dimensions\n",
        "# beyond the batch size.\n",
        "class Flatten(nn.Module):\n",
        "    def __init__(self):\n",
        "        super(Flatten, self).__init__()\n",
        "\n",
        "    def forward(self, x):\n",
        "        return x.view(x.shape[0], -1)"
      ]
    },
    {
      "cell_type": "markdown",
      "metadata": {
        "id": "x3i9R3NmpUY3"
      },
      "source": [
        "Below is the main class for a classifier parameterized by a neural network."
      ]
    },
    {
      "cell_type": "code",
      "execution_count": null,
      "metadata": {
        "id": "Vtv_pAkmOrS3"
      },
      "outputs": [],
      "source": [
        "# =========\n",
        "# GRADING:\n",
        "# 0\n",
        "# 0.5 pt if code works but it is explained badly\n",
        "# 1.0 pt if code works and it is explained well\n",
        "# =========\n",
        "# Implement a neural network (NN) classifier.\n",
        "class ClassifierNeuralNet(nn.Module):\n",
        "    def __init__(self, classnet):\n",
        "        super(ClassifierNeuralNet, self).__init__()\n",
        "        # We provide a sequential module with layers and activations\n",
        "        self.classnet = classnet\n",
        "        # The loss function (the negative log-likelihood)\n",
        "        self.nll = nn.NLLLoss(reduction=\"none\")  # it requires log-softmax as input!!\n",
        "\n",
        "    # This function classifies an image x to a class.\n",
        "    # The output must be a class label (long).\n",
        "    def classify(self, x):\n",
        "        # ------\n",
        "        # PLEASE FILL IN\n",
        "        # calculate scores of given classnet\n",
        "        scores = self.classnet(x)\n",
        "        # predict the label based on highest score\n",
        "        y_pred = scores.argmax(dim=1)\n",
        "        # cast to long\n",
        "        y_pred = y_pred.long()\n",
        "        return y_pred\n",
        "\n",
        "    # This function is crucial for a module in PyTorch.\n",
        "    # In our framework, this class outputs a value of the loss function.\n",
        "    def forward(self, x, y, reduction=\"avg\"):\n",
        "        # ------\n",
        "        # PLEASE FILL IN\n",
        "        # nll between log-softmax result and the target\n",
        "        loss = self.nll(self.classnet(x), y)\n",
        "        # return the loss based on reduction\n",
        "        if reduction == \"sum\":\n",
        "            return loss.sum()\n",
        "        else:\n",
        "            return loss.mean()"
      ]
    },
    {
      "cell_type": "markdown",
      "metadata": {
        "id": "bwaou1x-gmx3"
      },
      "source": [
        "**Question 1 (0-0.5pt):** What is the objective function for a classification task? In other words, what is nn.NLLLoss in the code above? Pelase write it in mathematical terms.\n",
        "\n",
        "**Answer:**\n",
        "\n",
        "\n",
        "A objective function for a classification task in general is the function that we want to 'optimize' in this case minimize its value. NLLLoss = negative log likelihood loss. It meaures the 'difference' between the predicted value and the actual value. Difference here depends on the loss function, for NLLLoss it can be described as the negative log likelihood of the predicted probability distribution of the class label. It is used for classification problems. More specifically, it can also be used in multiclass classifications.\n",
        "\n",
        "Negative Log Likelihood:\n",
        "\n",
        "$$ \\mathcal{L}(\\theta) = - \\sum_{i=1}^{n} \\log p(y_i | x_i; \\theta) $$\n",
        " \n",
        "\n",
        "where $p(y_i | x_i; \\theta)$ is the probability of the correct class $y_i$ given the input $x_i$ and parameterized by $\\theta$.\n",
        "\n",
        "\n",
        "Also we can write it as:\n",
        "Let $y$ be the true label and $y_hat$ be the predicted label. Then the negative log likelihood loss is:\n",
        "\n",
        "\n",
        "More details on the specifics of torch.nn.NLLLoss can be found here: https://pytorch.org/docs/stable/generated/torch.nn.NLLLoss.html\n"
      ]
    },
    {
      "cell_type": "markdown",
      "metadata": {
        "id": "kvX88kN-irAD"
      },
      "source": [
        "**Question 2 (0-0.5pt):** In the code above, it is said to use the logarithm of the softmax as the final activation function. Is it correct to use the log-softmax instead of the softmax for making predictions (i.e., picking the most probable label).\n",
        "\n",
        "**Answer:** \n",
        "\n",
        "Yes it is correct to use the log-softmax instead of the softmax for making predictions. The log-softmax is just takes the logarithm of the softmax result. this would make the results squeeze into a smaller range. Thus it does not effect ordering of the class probabilities or selection. "
      ]
    },
    {
      "cell_type": "markdown",
      "metadata": {
        "id": "HVqRQduw3mgm"
      },
      "source": [
        "### 2.2 Evaluation"
      ]
    },
    {
      "cell_type": "code",
      "execution_count": null,
      "metadata": {
        "id": "4g9uUFgYP1kT"
      },
      "outputs": [],
      "source": [
        "# PLEASE DO NOT REMOVE\n",
        "def evaluation(test_loader, name=None, model_best=None, epoch=None):\n",
        "    # If available, load the best performing model\n",
        "    if model_best is None:\n",
        "        model_best = torch.load(name + \".model\")\n",
        "\n",
        "    model_best.eval()  # set the model to the evaluation mode\n",
        "    loss_test = 0.0\n",
        "    loss_error = 0.0\n",
        "    N = 0.0\n",
        "    # start evaluation\n",
        "    for indx_batch, (test_batch, test_targets) in enumerate(test_loader):\n",
        "        # loss (nll)\n",
        "        loss_test_batch = model_best.forward(test_batch, test_targets, reduction=\"sum\")\n",
        "        loss_test = loss_test + loss_test_batch.item()\n",
        "        # classification error\n",
        "        y_pred = model_best.classify(test_batch)\n",
        "        e = 1.0 * (y_pred == test_targets)\n",
        "        loss_error = loss_error + (1.0 - e).sum().item()\n",
        "        # the number of examples\n",
        "        N = N + test_batch.shape[0]\n",
        "    # divide by the number of examples\n",
        "    loss_test = loss_test / N\n",
        "    loss_error = loss_error / N\n",
        "\n",
        "    # Print the performance\n",
        "    if epoch is None:\n",
        "        print(f\"-> FINAL PERFORMANCE: nll={loss_test}, ce={loss_error}\")\n",
        "    else:\n",
        "        if epoch % 10 == 0:\n",
        "            print(f\"Epoch: {epoch}, val nll={loss_test}, val ce={loss_error}\")\n",
        "\n",
        "    return loss_test, loss_error\n",
        "\n",
        "\n",
        "# An auxiliary function for plotting the performance curves\n",
        "def plot_curve(\n",
        "    name,\n",
        "    signal,\n",
        "    file_name=\"curve.pdf\",\n",
        "    xlabel=\"epochs\",\n",
        "    ylabel=\"nll\",\n",
        "    color=\"b-\",\n",
        "    test_eval=None,\n",
        "):\n",
        "    # plot the curve\n",
        "    plt.plot(\n",
        "        np.arange(len(signal)), signal, color, linewidth=\"3\", label=ylabel + \" val\"\n",
        "    )\n",
        "    # if available, add the final (test) performance\n",
        "    if test_eval is not None:\n",
        "        plt.hlines(\n",
        "            test_eval,\n",
        "            xmin=0,\n",
        "            xmax=len(signal),\n",
        "            linestyles=\"dashed\",\n",
        "            label=ylabel + \" test\",\n",
        "        )\n",
        "        plt.text(\n",
        "            len(signal),\n",
        "            test_eval,\n",
        "            \"{:.3f}\".format(test_eval),\n",
        "        )\n",
        "    # set x- and ylabels, add legend, save the figure\n",
        "    plt.xlabel(xlabel), plt.ylabel(ylabel)\n",
        "    plt.legend()\n",
        "    plt.savefig(name + file_name, bbox_inches=\"tight\")\n",
        "    plt.show()"
      ]
    },
    {
      "cell_type": "markdown",
      "metadata": {
        "id": "YzRd-TiY3puF"
      },
      "source": [
        "### 2.3 Training procedure"
      ]
    },
    {
      "cell_type": "code",
      "execution_count": null,
      "metadata": {
        "id": "CMhQWbM1QcBM"
      },
      "outputs": [],
      "source": [
        "# PLEASE DO NOT REMOVE!\n",
        "# The training procedure\n",
        "def training(\n",
        "    name, max_patience, num_epochs, model, optimizer, training_loader, val_loader\n",
        "):\n",
        "    nll_val = []\n",
        "    error_val = []\n",
        "    best_nll = 1000.0\n",
        "    patience = 0\n",
        "\n",
        "    # Main training loop\n",
        "    for e in range(num_epochs):\n",
        "        model.train()  # set the model to the training mode\n",
        "        # load batches\n",
        "        for indx_batch, (batch, targets) in enumerate(training_loader):\n",
        "            # calculate the forward pass (loss function for given images and labels)\n",
        "            loss = model.forward(batch, targets)\n",
        "            # remember we need to zero gradients! Just in case!\n",
        "            optimizer.zero_grad()\n",
        "            # calculate backward pass\n",
        "            loss.backward(retain_graph=True)\n",
        "            # run the optimizer\n",
        "            optimizer.step()\n",
        "\n",
        "        # Validation: Evaluate the model on the validation data\n",
        "        loss_e, error_e = evaluation(val_loader, model_best=model, epoch=e)\n",
        "        nll_val.append(loss_e)  # save for plotting\n",
        "        error_val.append(error_e)  # save for plotting\n",
        "\n",
        "        # Early-stopping: update the best performing model and break training if no\n",
        "        # progress is observed.\n",
        "        if e == 0:\n",
        "            torch.save(model, name + \".model\")\n",
        "            best_nll = loss_e\n",
        "        else:\n",
        "            if loss_e < best_nll:\n",
        "                torch.save(model, name + \".model\")\n",
        "                best_nll = loss_e\n",
        "                patience = 0\n",
        "            else:\n",
        "                patience = patience + 1\n",
        "\n",
        "        if patience > max_patience:\n",
        "            break\n",
        "\n",
        "    # Return nll and classification error.\n",
        "    nll_val = np.asarray(nll_val)\n",
        "    error_val = np.asarray(error_val)\n",
        "\n",
        "    return nll_val, error_val"
      ]
    },
    {
      "cell_type": "markdown",
      "metadata": {
        "id": "gHYGz3G87nuk"
      },
      "source": [
        "### 2.4 Experiments"
      ]
    },
    {
      "cell_type": "markdown",
      "metadata": {
        "id": "op-YbN-JREqw"
      },
      "source": [
        "#### Initialize dataloaders"
      ]
    },
    {
      "cell_type": "code",
      "execution_count": null,
      "metadata": {
        "id": "R_cRaP3gRET1"
      },
      "outputs": [],
      "source": [
        "# PLEASE DO NOT REMOVE\n",
        "# Initialize training, validation and test sets.\n",
        "train_data = Digits(mode=\"train\")\n",
        "val_data = Digits(mode=\"val\")\n",
        "test_data = Digits(mode=\"test\")\n",
        "\n",
        "# Initialize data loaders.\n",
        "training_loader = DataLoader(train_data, batch_size=64, shuffle=True)\n",
        "val_loader = DataLoader(val_data, batch_size=64, shuffle=False)\n",
        "test_loader = DataLoader(test_data, batch_size=64, shuffle=False)"
      ]
    },
    {
      "cell_type": "code",
      "execution_count": null,
      "metadata": {
        "colab": {
          "base_uri": "https://localhost:8080/"
        },
        "id": "2Lqwm5c3oRia",
        "outputId": "a882c1dd-084a-48b9-ad81-14e511b3bae2"
      },
      "outputs": [
        {
          "name": "stdout",
          "output_type": "stream",
          "text": [
            "How do we get our data from Digits class? \n",
            "\n",
            "Feature example: [ 0.  0.  0. 12. 13.  5.  0.  0.  0.  0.  0. 11. 16.  9.  0.  0.  0.  0.\n",
            "  3. 15. 16.  6.  0.  0.  0.  7. 15. 16. 16.  2.  0.  0.  0.  0.  1. 16.\n",
            " 16.  3.  0.  0.  0.  0.  1. 16. 16.  6.  0.  0.  0.  0.  1. 16. 16.  6.\n",
            "  0.  0.  0.  0.  0. 11. 16. 10.  0.  0.]\n",
            "Feature example shape: (64,)\n",
            "Label example: 1\n"
          ]
        }
      ],
      "source": [
        "print(\"How do we get our data from Digits class? \\n\")\n",
        "print(f\"Feature example: {train_data[1][0]}\")\n",
        "print(f\"Feature example shape: {train_data[1][0].shape}\")\n",
        "print(f\"Label example: {train_data[1][1]}\")"
      ]
    },
    {
      "cell_type": "code",
      "execution_count": null,
      "metadata": {
        "colab": {
          "base_uri": "https://localhost:8080/"
        },
        "id": "F5OuaSTOhocZ",
        "outputId": "aa7e00df-8286-4bfa-f5cb-604881a250fc"
      },
      "outputs": [
        {
          "name": "stdout",
          "output_type": "stream",
          "text": [
            "How do we get our data from Pytorch DataLoader class? \n",
            "\n",
            "Feature batch shape: torch.Size([64, 64])\n",
            "Labels batch shape: torch.Size([64])\n",
            "\n",
            "\n",
            "What happens if we reshape a feature batch? \n",
            "\n",
            "Feature batch shape after reshape: torch.Size([64, 1, 8, 8])\n",
            "\n",
            "\n",
            "What happens if we flatten a reshaped feature batch? \n",
            "\n",
            "Feature batch shape after flatten: torch.Size([64, 64])\n"
          ]
        }
      ],
      "source": [
        "print(\"How do we get our data from Pytorch DataLoader class? \\n\")\n",
        "train_features, train_labels = next(iter(training_loader))\n",
        "print(f\"Feature batch shape: {train_features.size()}\")\n",
        "print(f\"Labels batch shape: {train_labels.size()}\")\n",
        "\n",
        "print(\"\\n\\nWhat happens if we reshape a feature batch? \\n\")\n",
        "reshape = Reshape(size=(1, 8, 8))\n",
        "train_features_reshaped = reshape(train_features)\n",
        "print(f\"Feature batch shape after reshape: {train_features_reshaped.size()}\")\n",
        "\n",
        "print(\"\\n\\nWhat happens if we flatten a reshaped feature batch? \\n\")\n",
        "flatten = Flatten()\n",
        "train_features_flattened = flatten(train_features_reshaped)\n",
        "print(f\"Feature batch shape after flatten: {train_features_flattened.size()}\")"
      ]
    },
    {
      "cell_type": "markdown",
      "metadata": {
        "id": "s3ni_8Pv3iuG"
      },
      "source": [
        "#### Initialize hyperparameters"
      ]
    },
    {
      "cell_type": "code",
      "execution_count": null,
      "metadata": {
        "id": "dnMs4gcLRLEK"
      },
      "outputs": [],
      "source": [
        "# PLEASE DO NOT REMOVE\n",
        "# Hyperparameters\n",
        "# -> data hyperparams\n",
        "D = 64  # input dimension\n",
        "\n",
        "# -> model hyperparams\n",
        "M = 256  # the number of neurons in scale (s) and translation (t) nets\n",
        "K = 10  # the number of labels\n",
        "num_kernels = 32  # the number of kernels for CNN\n",
        "\n",
        "# -> training hyperparams\n",
        "lr = 1e-3  # learning rate\n",
        "wd = 1e-5  # weight decay\n",
        "num_epochs = 1000  # max. number of epochs\n",
        "max_patience = 20  # an early stopping is used, if training doesn't improve for longer than 20 epochs, it is stopped"
      ]
    },
    {
      "cell_type": "markdown",
      "metadata": {
        "id": "9VDyHP173vLF"
      },
      "source": [
        "#### Running experiments"
      ]
    },
    {
      "cell_type": "markdown",
      "metadata": {
        "id": "f9T9nXcE3xF2"
      },
      "source": [
        "In the code below, you are supposed to implement architectures for MLP and CNN. For properly implementing these architectures, you can get 0.5pt for each of them."
      ]
    },
    {
      "cell_type": "code",
      "execution_count": null,
      "metadata": {
        "colab": {
          "base_uri": "https://localhost:8080/",
          "height": 1000
        },
        "id": "AZH7ahwBRP9B",
        "outputId": "013075da-82e1-4c83-ce53-42f051926609"
      },
      "outputs": [
        {
          "name": "stdout",
          "output_type": "stream",
          "text": [
            "\n",
            "-> START classifier_mlp\n",
            "Epoch: 0, val nll=1.3158433205740792, val ce=0.4342857142857143\n",
            "Epoch: 10, val nll=0.17453345843723841, val ce=0.037142857142857144\n",
            "Epoch: 20, val nll=0.1254271922792707, val ce=0.02857142857142857\n",
            "Epoch: 30, val nll=0.1093378792490278, val ce=0.025714285714285714\n",
            "Epoch: 40, val nll=0.09784524304526193, val ce=0.022857142857142857\n",
            "Epoch: 50, val nll=0.09244576658521379, val ce=0.022857142857142857\n",
            "Epoch: 60, val nll=0.09155432888439724, val ce=0.025714285714285714\n",
            "Epoch: 70, val nll=0.08902663605553764, val ce=0.02857142857142857\n",
            "Epoch: 80, val nll=0.090723899773189, val ce=0.02857142857142857\n",
            "Epoch: 90, val nll=0.08877648515360696, val ce=0.025714285714285714\n",
            "-> FINAL PERFORMANCE: nll=0.30091190551484726, ce=0.07606263982102908\n"
          ]
        },
        {
          "data": {
            "image/png": "[encoded data removed]",
            "text/plain": [
              "<Figure size 640x480 with 1 Axes>"
            ]
          },
          "metadata": {},
          "output_type": "display_data"
        },
        {
          "data": {
            "image/png": "[encoded data removed]",
            "text/plain": [
              "<Figure size 640x480 with 1 Axes>"
            ]
          },
          "metadata": {},
          "output_type": "display_data"
        },
        {
          "name": "stdout",
          "output_type": "stream",
          "text": [
            "\n",
            "-> START classifier_cnn\n",
            "Epoch: 0, val nll=1.662102552141462, val ce=0.22857142857142856\n",
            "Epoch: 10, val nll=0.135828138760158, val ce=0.02857142857142857\n",
            "Epoch: 20, val nll=0.07664714302335467, val ce=0.017142857142857144\n",
            "Epoch: 30, val nll=0.0647085064649582, val ce=0.017142857142857144\n",
            "Epoch: 40, val nll=0.06923112609556743, val ce=0.017142857142857144\n",
            "Epoch: 50, val nll=0.06577548393181393, val ce=0.017142857142857144\n",
            "-> FINAL PERFORMANCE: nll=0.20681284151354626, ce=0.053691275167785234\n"
          ]
        },
        {
          "data": {
            "image/png": "[encoded data removed]",
            "text/plain": [
              "<Figure size 640x480 with 1 Axes>"
            ]
          },
          "metadata": {},
          "output_type": "display_data"
        },
        {
          "data": {
            "image/png": "[encoded data removed]",
            "text/plain": [
              "<Figure size 640x480 with 1 Axes>"
            ]
          },
          "metadata": {},
          "output_type": "display_data"
        }
      ],
      "source": [
        "# PLEASE DO NOT REMOVE and FILL IN WHEN NECESSARY!\n",
        "from collections import OrderedDict\n",
        "# We will run two models: MLP and CNN\n",
        "names = [\"classifier_mlp\", \"classifier_cnn\"]\n",
        "\n",
        "# loop over models\n",
        "for name in names:\n",
        "    print(\"\\n-> START {}\".format(name))\n",
        "    # Create a folder (REMEMBER: You must mount your drive if you use Colab!)\n",
        "    if name == \"classifier_mlp\":\n",
        "        name = name + \"_M_\" + str(M)\n",
        "    elif name == \"classifier_cnn\":\n",
        "        name = name + \"_M_\" + str(M) + \"_kernels_\" + str(num_kernels)\n",
        "\n",
        "    # Create a folder if necessary\n",
        "    result_dir = os.path.join(results_dir, \"results\", name + \"/\")\n",
        "\n",
        "    # =========\n",
        "    # MAKE SURE THAT \"result_dir\" IS A PATH TO A LOCAL FOLDER OR A GOOGLE COLAB FOLDER (DEFINED IN CELL 3)\n",
        "    result_dir = \"./\"  # (current folder)\n",
        "    # =========\n",
        "    if not (os.path.exists(result_dir)):\n",
        "        os.mkdir(result_dir)\n",
        "\n",
        "    # MLP\n",
        "    if name[0:14] == \"classifier_mlp\":\n",
        "        # =========\n",
        "        # GRADING:\n",
        "        # 0\n",
        "        # 0.5pt if properly implemented\n",
        "        # =========\n",
        "        # ------\n",
        "        # PLEASE FILL IN:\n",
        "        # classnet = nn.Sequential(...)\n",
        "        #\n",
        "        # You are asked here to propose your own architecture\n",
        "        # NOTE: Please remember that the output must be LogSoftmax!\n",
        "        # ------\n",
        "        classnet = nn.Sequential(OrderedDict([\n",
        "            # Reshape the input to a vector \n",
        "            ('reshape', Reshape(size=(1, 8, 8))),\n",
        "            # Flatten the vector \n",
        "            ('flatten', Flatten()),\n",
        "            # Linear layer that has D input and M output neurons\n",
        "            ('linear1', nn.Linear(D, M)),\n",
        "            # Leaky ReLU activation for non-linearity\n",
        "            ('leakyrelu1', nn.LeakyReLU()),\n",
        "            # Linear layer that has M input and M output neurons\n",
        "            ('linear2', nn.Linear(M, M)),  \n",
        "            # logsoftmax activation as a last layer      \n",
        "            ('logsoftmax', nn.LogSoftmax(dim=1))\n",
        "\n",
        "        ]))\n",
        "        \n",
        "\n",
        "    # CNN\n",
        "    elif name[0:14] == \"classifier_cnn\":\n",
        "        # =========\n",
        "        # GRADING:\n",
        "        # 0\n",
        "        # 0.5pt if properly implemented\n",
        "        # =========\n",
        "        # ------\n",
        "        # PLEASE FILL IN:\n",
        "        # classnet = nn.Sequential(...)\n",
        "        #\n",
        "        # You are asked here to propose your own architecture\n",
        "        # NOTE: Plese note that the images are represented as vectors, thus, you must\n",
        "        # use Reshape(size) as the first layer, and Flatten() after all convolutional\n",
        "        # layers and before linear layers.\n",
        "        # NOTE: Please remember that the output must be LogSoftmax!\n",
        "        # ------\n",
        "        # It has the following structure:\n",
        "        # conv - leakyrelu - 2x2 max pool - conv - leaky relu - 2x2 max pool - fc layer - leaky relu- fc layer- logsoftmax\n",
        "        classnet = nn.Sequential(OrderedDict([\n",
        "            # Reshape the input to a vector\n",
        "            ('reshape', Reshape(size=(1, 8, 8))),\n",
        "            # 1st convolutional layer \n",
        "            ('conv1', nn.Conv2d(1, num_kernels, kernel_size=3, stride=1, padding=1)),\n",
        "            # LeakyReLU activation\n",
        "            ('leakyrelu1', nn.LeakyReLU()),\n",
        "            # MaxPool for downsampling\n",
        "            ('maxpool1', nn.MaxPool2d(kernel_size=2, stride=2)),\n",
        "            # 2nd convolutional layer\n",
        "            ('conv2', nn.Conv2d(num_kernels, num_kernels, kernel_size=3, stride=1, padding=1)),\n",
        "            # LeakyReLU activation\n",
        "            ('leakyrelu2', nn.LeakyReLU()),\n",
        "            # MaxPool for downsampling\n",
        "            ('maxpool2', nn.MaxPool2d(kernel_size=2, stride=2)),\n",
        "            # Flatten before fully connected layers\n",
        "            ('flatten', Flatten()),\n",
        "            # 1st fully connected layer 128 calculated to fit with input of the prior layer\n",
        "            ('linear1', nn.Linear(128, M)),\n",
        "            # LeakyReLU activation\n",
        "            ('leakyrelu3', nn.LeakyReLU()),\n",
        "            # 2nd fully connected layer\n",
        "            ('linear2', nn.Linear(M, K)),\n",
        "            # LogSoftmax activation\n",
        "            ('logsoftmax', nn.LogSoftmax(dim=1))\n",
        "\n",
        "        ]))\n",
        "\n",
        "\n",
        "    # Init ClassifierNN\n",
        "    model = ClassifierNeuralNet(classnet)\n",
        "\n",
        "    # Init OPTIMIZER (here we use ADAMAX)\n",
        "    optimizer = torch.optim.Adamax(\n",
        "        [p for p in model.parameters() if p.requires_grad == True],\n",
        "        lr=lr,\n",
        "        weight_decay=wd,\n",
        "    )\n",
        "\n",
        "    # Training procedure\n",
        "    nll_val, error_val = training(\n",
        "        name=result_dir + name,\n",
        "        max_patience=max_patience,\n",
        "        num_epochs=num_epochs,\n",
        "        model=model,\n",
        "        optimizer=optimizer,\n",
        "        training_loader=training_loader,\n",
        "        val_loader=val_loader,\n",
        "    )\n",
        "\n",
        "    # The final evaluation (on the test set)\n",
        "    test_loss, test_error = evaluation(name=result_dir + name, test_loader=test_loader)\n",
        "    # write the results to a file\n",
        "    f = open(result_dir + name + \"_test_loss.txt\", \"w\")\n",
        "    f.write(\"NLL: \" + str(test_loss) + \"\\nCE: \" + str(test_error))\n",
        "    f.close()\n",
        "    # create curves\n",
        "    plot_curve(\n",
        "        result_dir + name,\n",
        "        nll_val,\n",
        "        file_name=\"_nll_val_curve.pdf\",\n",
        "        ylabel=\"nll\",\n",
        "        test_eval=test_loss,\n",
        "    )\n",
        "    plot_curve(\n",
        "        result_dir + name,\n",
        "        error_val,\n",
        "        file_name=\"_ca_val_curve.pdf\",\n",
        "        ylabel=\"ce\",\n",
        "        color=\"r-\",\n",
        "        test_eval=test_error,\n",
        "    )"
      ]
    },
    {
      "cell_type": "markdown",
      "metadata": {
        "id": "oFX-DzH9ftPg"
      },
      "source": [
        "## 2.5 Analysis"
      ]
    },
    {
      "cell_type": "markdown",
      "metadata": {
        "id": "2-TFtGdZfz3a"
      },
      "source": [
        "**Question 3 (0-0.5pt)**: Please compare the convergence of MLP and CNN in terms of the loss function and the classification error.\n",
        "\n",
        "**Answer**: \n",
        "\n",
        "**1. Loss Function:**\n",
        "\n",
        "We can observe from the plot below that loss function achieves a lower value for the CNN than for the MLP. This indicates that CNN is better to detect probabilities compared to MLP. \n",
        "\n",
        "Both were able to generate less than 0.2 on validation data (for MLP best result is generated on validation data on 90th epoch with val nll=0.08877648515360696 whereas for CNN and on validation data it was on 30th epoch with val nll=0.0647085064649582). However on the test data loss for MLP is 0.3 whereas it is 0.2 on CNN. \n",
        "\n",
        "Moreover, CNN took less iterations to terminated due to early stopping. This might be because it was faster to convergence and then it maybe started to overfit so that validation did not improve anymore. Overall we can say that CNN converged faster (not in terms of total time but in terms of iterations) and achieved a better result in the loss function on test data so it 'optimized' better on the objective function and better to generalize. \n",
        "\n",
        "\n",
        "<img src=\"output_mlp_loss.png\" title=\"MLP\" width=\"400\"/>\n",
        "<img src=\"output_cnn_loss.png\" title=\"CNN\" width=\"400\"/>\n",
        "\n",
        "**2. Classification Error:**\n",
        "\n",
        "Pretty much same analysis can be done on the classification error as well. We can observe from the plot below that classification error achieves a lower value for the CNN than for the MLP. This indicates that CNN is better to predict correct class compared to MLP. \n",
        "\n",
        "Again both were able to generate error that is less than 0.025 on validation data (mlp: 0.22 epoch 40 | cnn: 0.017 epoch 30). However on the test data error for MLP is 0.076 whereas it is 0.054 on CNN.\n",
        "\n",
        "Reasoning on the total number of epoch before cutting out by early stopping is the same as above. Overall we can say that CNN converged faster (not in terms of total time but in terms of iterations) and achieved a better result in the classification error on test data so it 'optimized' better on the objective function and better to generalize.\n",
        "\n",
        "<img src=\"output_mlp_error.png\"  title=\"MLP\" width=\"400\"/>\n",
        "<img src=\"output_cnn_error.png\" title=\"CNN\" width=\"400\"/>\n",
        "\n"
      ]
    },
    {
      "cell_type": "markdown",
      "metadata": {
        "id": "0f2P57ZmlwXz"
      },
      "source": [
        "**Question 4 (0-0.5pt)**: In general, for a properly picked architectures, a CNN should work better than an MLP. Did you notice that? Why (in general) CNNs are better suited to images than MLPs?\n",
        "\n",
        "**Answer**: \n",
        "Yes I noticed that both from our experiment and the fact that CNNs are widely used in CV tasks compared to MLP.\n",
        "\n",
        "MLP basically consists of many linear layers and nonlinearity functions whereas CNN consist of convulation layers. \n",
        "\n",
        "Convulational layers help us to capture the spatial information of the image. Model can learn relationship between of some pixel and its neighbours. However, in the linear layers of MLP, image is only regarded as a flattened vector. Thus, MLPs are not able to capture the spatial information of the image that pixels are related to each other. \n",
        "\n",
        "Moreover MLPs have more parameters than CNNs. This is because in each layer of MLP, we have a weight matrix that is multiplied by the input vector. However, in CNNs, we have a kernel that is multiplied by the input image. Since the kernel is convolved around the image with certain size, padding and stride, it basically can downsample the image (reduce size). At the end we have less parameters in CNNs. Thus, they are more easier to train and optimize both in terms of time and memory complexity. "
      ]
    },
    {
      "cell_type": "markdown",
      "metadata": {
        "id": "1QJ_mRdT7Ais"
      },
      "source": [
        "## 3 Application to Street House View Numbers (SVHN) (6pt)"
      ]
    },
    {
      "cell_type": "markdown",
      "metadata": {
        "id": "YHhUUaYL7GEx"
      },
      "source": [
        "Please repeat (some) of the code in the previous section and apply a bigger convolutional neural network (CNN) to the following dataset:\n",
        "\n",
        "http://ufldl.stanford.edu/housenumbers/\n",
        "\n",
        "Please follow the following steps:\n",
        "1. (1pt) Create appropriate Dataset class. Please remember to use the original training data and test data, and also to create a validation set from the traning data (at least 10% of the training examples). **Do not use extra examples!**\n",
        "2. (1pt) Implement an architecture that will give at most 0.1 classification error. For instance, see this paper as a reference: https://arxiv.org/pdf/1204.3968.pdf#:~:text=The%20SVHN%20classification%20dataset%20%5B8,set%20of%20more%20difficult%20samples\n",
        "3. (1pt) Think of an extra component that could improve the performance (e.g., a regularization, specific activation functions).\n",
        "4. (1pt) Provide a good explanation of the applied architecture and a description of all components.\n",
        "5. (2pt) Analyze the results.\n",
        "\n",
        "**Please be very precise, comment your code and provide a comprehensive and clear analysis.**"
      ]
    },
    {
      "cell_type": "markdown",
      "metadata": {
        "id": "eAG3pSHGlHn2"
      },
      "source": [
        "### 3.1 Dataset"
      ]
    },
    {
      "cell_type": "code",
      "execution_count": null,
      "metadata": {
        "colab": {
          "base_uri": "https://localhost:8080/"
        },
        "id": "g5SNQ43hQhfd",
        "outputId": "f93d4c77-7a64-4023-a296-f023e37f3c52"
      },
      "outputs": [
        {
          "name": "stdout",
          "output_type": "stream",
          "text": [
            "Using downloaded and verified file: /content/gdrive/MyDrive/CI/test_32x32.mat\n",
            "Using downloaded and verified file: /content/gdrive/MyDrive/CI/train_32x32.mat\n"
          ]
        },
        {
          "data": {
            "text/plain": [
              "Dataset SVHN\n",
              "    Number of datapoints: 73257\n",
              "    Root location: /content/gdrive/MyDrive/CI\n",
              "    Split: train"
            ]
          },
          "execution_count": 10,
          "metadata": {},
          "output_type": "execute_result"
        }
      ],
      "source": [
        "from torchvision.datasets import SVHN\n",
        "from torch.utils.data import Dataset, random_split\n",
        "from torchvision import transforms\n",
        "from sklearn.model_selection import train_test_split\n",
        "\n",
        "# svhn dataset from torchvision is used for effective data download\n",
        "SVHN(root =  \"/content/gdrive/MyDrive/CI\" ,split='test', download=True)\n",
        "SVHN(root =  \"/content/gdrive/MyDrive/CI\" ,split='train', download=True)\n"
      ]
    },
    {
      "cell_type": "code",
      "execution_count": null,
      "metadata": {
        "id": "gwnr8B6hlHn2"
      },
      "outputs": [],
      "source": [
        "\n",
        "class HouseNumbers(Dataset):\n",
        "    \"\"\"House Numbers Dataset.\"\"\"\n",
        "\n",
        "    def __init__(self, root = './', mode=\"train\", transform=None, val_ratio=0.2):\n",
        "        \"\"\"\n",
        "        Dataset Class for House Numbers Dataset. \n",
        "        It uses SVHN dataset from torchvision to download the dataset but only uses the train and test splits.\n",
        "        It creates its own data and target variables by splitting the train set into train and validation sets. \n",
        "        So that it can be used in a standard way for training, validation, and test purposes with PyTorch DataLoader.\n",
        "        Args:\n",
        "            root (string): Directory with all the images (default: './')\n",
        "            mode (string): train, val, or test (default: train)\n",
        "            transforms (function): Optional transform to be applied on a sample.\n",
        "            val_ratio (float): Ratio of validation set when mode is train (default: 0.2)\n",
        "        \"\"\"\n",
        "        self.transform = transform\n",
        "        self.mode = mode\n",
        "        self.val_ratio = val_ratio\n",
        "        self.root = root\n",
        "\n",
        "        if self.mode == 'test':\n",
        "            # load test set\n",
        "            test_set = SVHN(root=self.root, split='test', transform=transforms.ToTensor())\n",
        "            # set data and target variables\n",
        "            self.data = test_set.data\n",
        "            self.target = test_set.labels\n",
        "        else:\n",
        "            # decide train and validation indices \n",
        "            # set random seed to 0 for achieving the same result in each instance of the class\n",
        "            train_indices, val_indices = train_test_split(\n",
        "                                            np.arange(len(SVHN(root=self.root, split='train'))), \n",
        "                                            test_size=self.val_ratio, \n",
        "                                            random_state=0)\n",
        "            # if mode is train, load train set\n",
        "            if self.mode == 'train':\n",
        "                complete = SVHN(root=self.root, split='train', transform=transforms.ToTensor())\n",
        "                self.data = torch.utils.data.Subset(complete.data, train_indices)\n",
        "                self.target = np.array(complete.labels)[train_indices]\n",
        "            # if mode is val, load validation set\n",
        "            elif self.mode == 'val':\n",
        "                complete = SVHN(root=self.root, split='train', transform=transforms.ToTensor())\n",
        "                self.data = torch.utils.data.Subset(complete.data, val_indices)\n",
        "                self.target = np.array(complete.labels)[val_indices]\n",
        "            else :\n",
        "                raise ValueError('Invalid mode %s' % self.mode)\n",
        "    \n",
        "    def __len__(self):\n",
        "        return len(self.data)\n",
        "    \n",
        "    def __getitem__(self, idx):\n",
        "        sample_x = self.data[idx]\n",
        "        sample_y = self.target[idx]\n",
        "        if self.transform:\n",
        "            sample_x = self.transform(sample_x)\n",
        "        return (sample_x, sample_y)        "
      ]
    },
    {
      "cell_type": "code",
      "execution_count": null,
      "metadata": {
        "id": "i4Nkb85LlHn3"
      },
      "outputs": [],
      "source": [
        "# Initialize training, validation and test sets.\n",
        "train_data = HouseNumbers(mode=\"train\", root= \"/content/gdrive/MyDrive/CI\")\n",
        "val_data = HouseNumbers(mode=\"val\",  root= \"/content/gdrive/MyDrive/CI\")\n",
        "test_data = HouseNumbers(mode=\"test\",  root= \"/content/gdrive/MyDrive/CI\")\n",
        "\n",
        "# Initialize data loaders.\n",
        "training_loader = DataLoader(train_data, batch_size=32, shuffle=True)\n",
        "val_loader = DataLoader(val_data, batch_size=32, shuffle=False)\n",
        "test_loader = DataLoader(test_data, batch_size=32, shuffle=False)"
      ]
    },
    {
      "cell_type": "code",
      "execution_count": null,
      "metadata": {
        "id": "kqIiEyt4NyaY"
      },
      "outputs": [],
      "source": [
        "# move dataloaders to device as well\n",
        "# otherwise the training process will give an error\n",
        "# model parameters will be on the device and have type torch.cuda.FloatTensor\n",
        "# but the data will be on the CPU and have type torch.FloatTensor \n",
        "# so we need to move the data to the device that the model is on to make sure they are the same type\n",
        "# to fix this issue, found following solution in the pytorch documentation \n",
        "# modified it to fit our needs\n",
        "# ref: https://pytorch.org/tutorials/beginner/nn_tutorial.html#wrapping-dataloader\n",
        "class WrappedDataLoaderCustomize():\n",
        "    def __init__(self, dl, device):\n",
        "        self.dl = dl\n",
        "        # in the original code, there is a function \n",
        "        # but here it will be fixed: 'to_device' so not included\n",
        "        self.device = device\n",
        "\n",
        "    def __len__(self):\n",
        "        return len(self.dl)\n",
        "\n",
        "    def __iter__(self):\n",
        "        for i in self.dl:\n",
        "            yield self.move_to_device(i, self.device)\n",
        "    \n",
        "    def move_to_device(self, b, device):\n",
        "        # since the our data can be tuple shaped, we need to move each element to the device recursively\n",
        "        # check the input type\n",
        "        # move each element to the device recursively\n",
        "        if isinstance(b, (list, tuple)):\n",
        "            return [self.move_to_device(x, device) for x in b]\n",
        "        # move the input to the device directly\n",
        "        return b.to(device)\n",
        "      \n"
      ]
    },
    {
      "cell_type": "markdown",
      "metadata": {
        "id": "jV03vAF2lHn3"
      },
      "source": [
        "### 3.2 Architecture"
      ]
    },
    {
      "cell_type": "code",
      "execution_count": 3,
      "metadata": {
        "id": "GYiApTzHlHn3"
      },
      "outputs": [],
      "source": [
        "class MyNetwork(nn.Module):\n",
        "    def __init__(self):\n",
        "        '''\n",
        "        The network is inspired by the VGG16 architecture.\n",
        "        The VGG16 model is a CNN model that\n",
        "        consists of 5 convolutional blocks, each followed by a max pooling layer, and 3 fully-connected (fc) layers.\n",
        "        However here we only used 4 conv block since original input to VGG16 has more pixels and here we have 32x32 images.\n",
        "        As we do downsampling, 5 conv blocks would be too much for our data.\n",
        "        '''\n",
        "        super().__init__()\n",
        "        self.conv_block_1 = self.conv_block(3, 64, 3, 1, 1, 2)\n",
        "        self.conv_block_2 = self.conv_block(64, 128, 3, 1, 1, 2)\n",
        "        self.conv_block_3 = self.conv_block(128, 256, 3, 1, 1, 3)\n",
        "        self.conv_block_4 = self.conv_block(256, 256, 3, 1, 1, 4, reduce =True)\n",
        "        self.fc_block_classifier = self.fc_block()\n",
        "        self.max_pooling = self.max_pooling_block()\n",
        "        # log likelihood loss\n",
        "        self.nll = nn.NLLLoss(reduction=\"none\")  \n",
        "    \n",
        "    def forward(self, x, y, reduction='avg'):\n",
        "        # pass the input through the network\n",
        "        x = self.conv_block_1(x)\n",
        "        x = self.max_pooling(x)\n",
        "        x = self.conv_block_2(x)\n",
        "        x = self.max_pooling(x)\n",
        "        x = self.conv_block_3(x)\n",
        "        x = self.max_pooling(x)\n",
        "        x = self.conv_block_4(x)\n",
        "        x = self.max_pooling(x)\n",
        "        x = x.flatten(1)\n",
        "        x = self.fc_block_classifier(x)\n",
        "\n",
        "        # nll between log-softmax result and the target\n",
        "        loss = self.nll(x, y)\n",
        "\n",
        "        if reduction == \"sum\":\n",
        "            return loss.sum()\n",
        "        else:\n",
        "            return loss.mean()\n",
        "\n",
        "        return loss\n",
        "\n",
        "    def classify(self, x):\n",
        "        # Calculate scores of log-softmax\n",
        "        # pass the input through the network\n",
        "        x = self.conv_block_1(x)\n",
        "        x = self.max_pooling(x)\n",
        "        x = self.conv_block_2(x)\n",
        "        x = self.max_pooling(x)\n",
        "        x = self.conv_block_3(x)\n",
        "        x = self.max_pooling(x)\n",
        "        x = self.conv_block_4(x)\n",
        "        x = self.max_pooling(x)\n",
        "        x = x.flatten(1)\n",
        "        scores = self.fc_block_classifier(x)\n",
        "        # Predict the label based on highest score\n",
        "        y_pred = scores.argmax(dim=1)\n",
        "        # Cast to long\n",
        "        y_pred = y_pred.long()\n",
        "        return y_pred\n",
        "\n",
        "        \n",
        "    def conv_block(self, in_channels, out_channels, kernel_size=3, stride=1, padding=1, consequtive_conv=1, reduce = False):\n",
        "        '''\n",
        "        Creates a convolutional block with given parameters \n",
        "        args:\n",
        "            in_channels: number of input channels\n",
        "            out_channels: number of output channels\n",
        "            kernel_size: size of the kernel\n",
        "            stride: stride of the kernel\n",
        "            padding: padding of the kernel\n",
        "            consequtive_conv: number of consequtive convolutions in the block\n",
        "            reduce: if true, add a initial convolutional layer with stride 2 to reduce the size of the image\n",
        "        Returns:\n",
        "            A sequential block with: Conv2d (input x output) -> ReLU -> Conv2d (output x output) -> ReLU -> ... -> Conv2d (output x output) -> ReLU\n",
        "        '''\n",
        "        layers = []\n",
        "        layers.append(nn.Conv2d(in_channels, out_channels, kernel_size=kernel_size, stride=stride, padding=padding))\n",
        "        if reduce:\n",
        "            layers[0] = nn.Conv2d(in_channels, out_channels, kernel_size=kernel_size, stride=2, padding=padding)\n",
        "        layers.append(nn.ReLU())\n",
        "        for i in range(consequtive_conv -1):\n",
        "            layers.append(nn.Conv2d(out_channels, out_channels, kernel_size=kernel_size, stride=stride, padding=padding))\n",
        "            layers.append(nn.ReLU())\n",
        "        return nn.Sequential(*layers)\n",
        "\n",
        "      \n",
        "    def max_pooling_block(self, kernel_size=2, stride=2):\n",
        "        '''\n",
        "        Creates a max pooling block with given parameters\n",
        "        args:\n",
        "            kernel_size: size of the kernel\n",
        "            stride: stride of the kernel\n",
        "        Returns:\n",
        "            A max pooling layer with given parameters\n",
        "        '''\n",
        "        return nn.MaxPool2d(kernel_size=kernel_size, stride=stride)\n",
        "\n",
        "    def fc_block(self):\n",
        "        '''\n",
        "        Creates a fully connected block to perform classification\n",
        "        Sizes are calculated based on the output of the last convolutional block\n",
        "        args:\n",
        "            input_size: size of the input\n",
        "            output_size: size of the output\n",
        "        Returns:\n",
        "            A sequential block with: Linear -> ReLU -> Linear -> ReLU -> Linear  -> LogSoftmax\n",
        "        '''\n",
        "        return nn.Sequential(nn.Linear(256, 128),\n",
        "            nn.ReLU(),\n",
        "            nn.Linear(128, 64),\n",
        "            nn.ReLU(),\n",
        "            nn.Linear(64,10),\n",
        "            nn.LogSoftmax(dim=1))\n",
        "    \n",
        "\n",
        "    "
      ]
    },
    {
      "cell_type": "markdown",
      "metadata": {
        "id": "GifvkUUrwOnP"
      },
      "source": [
        " ### 3.3 Training"
      ]
    },
    {
      "cell_type": "code",
      "execution_count": null,
      "metadata": {
        "id": "HEh1TgF0IemP"
      },
      "outputs": [],
      "source": [
        "# hyperparameters\n",
        "lr = 1e-3  # learning rate\n",
        "wd = 1e-5  # weight decay\n",
        "num_epochs = 1000  # max. number of epochs\n",
        "max_patience = 20  # an early stopping is used, if training doesn't improve for longer than 20 epochs, it is stopped"
      ]
    },
    {
      "cell_type": "code",
      "execution_count": null,
      "metadata": {
        "id": "-GQA96-oHi38"
      },
      "outputs": [],
      "source": [
        "# The training procedure from part-2 with minor changes\n",
        "def training_mynetwork(\n",
        "    name, max_patience, num_epochs, model, optimizer, training_loader, val_loader\n",
        "):\n",
        "    nll_val = []\n",
        "    error_val = []\n",
        "    best_nll = 1000.0\n",
        "    patience = 0\n",
        "\n",
        "    # Main training loop\n",
        "    for e in range(num_epochs):\n",
        "        model.train()  # set the model to the training mode\n",
        "        # load batches\n",
        "        for indx_batch, (batch, targets) in enumerate(training_loader):\n",
        "            # CONVERT EACH DATA IN THE BATCH TO FLOAT AND STACK THEM TOGETHER BACK\n",
        "            batch = torch.stack([b.float() for b in batch])\n",
        "            # calculate the forward pass (loss function for given images and labels)\n",
        "            loss = model.forward(batch, targets)\n",
        "            # remember we need to zero gradients! Just in case!\n",
        "            optimizer.zero_grad()\n",
        "            # calculate backward pass\n",
        "            loss.backward(retain_graph=True)\n",
        "            # run the optimizer\n",
        "            optimizer.step()\n",
        "\n",
        "        # Validation: Evaluate the model on the validation data\n",
        "        loss_e, error_e = evaluation_mynetwork(val_loader, model_best=model, epoch=e)\n",
        "        nll_val.append(loss_e)  # save for plotting\n",
        "        error_val.append(error_e)  # save for plotting\n",
        "\n",
        "        # Early-stopping: update the best performing model and break training if no\n",
        "        # progress is observed.\n",
        "        if e == 0:\n",
        "            torch.save(model, name + \".model\")\n",
        "            best_nll = loss_e\n",
        "        else:\n",
        "            if loss_e < best_nll:\n",
        "                torch.save(model, name + \".model\")\n",
        "                best_nll = loss_e\n",
        "                patience = 0\n",
        "            else:\n",
        "                patience = patience + 1\n",
        "\n",
        "        if patience > max_patience:\n",
        "            break\n",
        "\n",
        "    # Return nll and classification error.\n",
        "    nll_val = np.asarray(nll_val)\n",
        "    error_val = np.asarray(error_val)\n",
        "\n",
        "    return nll_val, error_val\n",
        "  \n",
        "# The evaluation procedure from part-2 with minor changes\n",
        "def evaluation_mynetwork(test_loader, name=None, model_best=None, epoch=None):\n",
        "    # If available, load the best performing model\n",
        "    if model_best is None:\n",
        "        model_best = torch.load(name + \".model\")\n",
        "\n",
        "    model_best.eval()  # set the model to the evaluation mode\n",
        "    loss_test = 0.0\n",
        "    loss_error = 0.0\n",
        "    N = 0.0\n",
        "    # start evaluation\n",
        "    for indx_batch, (test_batch, test_targets) in enumerate(test_loader):\n",
        "        # CONVERT EACH DATA IN THE BATCH TO FLOAT AND STACK THEM TOGETHER BACK\n",
        "        test_batch = torch.stack([b.float() for b in test_batch])\n",
        "        # loss (nll)\n",
        "        loss_test_batch = model_best.forward(test_batch, test_targets, reduction=\"sum\")\n",
        "        loss_test = loss_test + loss_test_batch.item()\n",
        "        # classification error\n",
        "        y_pred = model_best.classify(test_batch)\n",
        "        e = 1.0 * (y_pred == test_targets)\n",
        "        loss_error = loss_error + (1.0 - e).sum().item()\n",
        "        # the number of examples\n",
        "        N = N + test_batch.shape[0]\n",
        "    # divide by the number of examples\n",
        "    loss_test = loss_test / N\n",
        "    loss_error = loss_error / N\n",
        "\n",
        "    # Print the performance\n",
        "    if epoch is None:\n",
        "        print(f\"-> FINAL PERFORMANCE: nll={loss_test}, ce={loss_error}\")\n",
        "    else:\n",
        "      #print result of every other epoch for monitoring purposes\n",
        "        if epoch % 2 == 0:\n",
        "            print(f\"Epoch: {epoch}, val nll={loss_test}, val ce={loss_error}\")\n",
        "\n",
        "    return loss_test, loss_error"
      ]
    },
    {
      "cell_type": "code",
      "execution_count": 58,
      "metadata": {
        "colab": {
          "base_uri": "https://localhost:8080/",
          "height": 1000
        },
        "id": "6eK4EArfvtfm",
        "outputId": "b08d89a9-99a7-480d-f23c-008c1db29ca3"
      },
      "outputs": [
        {
          "name": "stdout",
          "output_type": "stream",
          "text": [
            "The model runs on:  cuda\n",
            "Epoch: 0, val nll=0.6986306357377219, val ce=0.21416871416871416\n",
            "Epoch: 2, val nll=0.31314948014050537, val ce=0.08654108654108654\n",
            "Epoch: 4, val nll=0.2460642760686135, val ce=0.06538356538356538\n",
            "Epoch: 6, val nll=0.26575588517769694, val ce=0.06838656838656838\n",
            "Epoch: 8, val nll=0.27620408456409495, val ce=0.06524706524706525\n",
            "Epoch: 10, val nll=0.27904725537861413, val ce=0.06306306306306306\n",
            "Epoch: 12, val nll=0.3314966123203823, val ce=0.06197106197106197\n",
            "Epoch: 14, val nll=0.36270249002751886, val ce=0.062175812175812174\n",
            "Epoch: 16, val nll=0.42412496043803055, val ce=0.06797706797706797\n",
            "Epoch: 18, val nll=0.39307826832322146, val ce=0.06046956046956047\n",
            "Epoch: 20, val nll=0.4261059383732072, val ce=0.062175812175812174\n",
            "Epoch: 22, val nll=0.3894434059436026, val ce=0.06476931476931477\n",
            "Epoch: 24, val nll=0.45893069908301193, val ce=0.06524706524706525\n",
            "-> FINAL PERFORMANCE: nll=0.2598846448378176, ce=0.06791641057160418\n"
          ]
        },
        {
          "data": {
            "image/png": "[encoded data removed]",
            "text/plain": [
              "<Figure size 640x480 with 1 Axes>"
            ]
          },
          "metadata": {},
          "output_type": "display_data"
        },
        {
          "data": {
            "image/png": "[encoded data removed]",
            "text/plain": [
              "<Figure size 640x480 with 1 Axes>"
            ]
          },
          "metadata": {},
          "output_type": "display_data"
        }
      ],
      "source": [
        "# initialize the model\n",
        "model = MyNetwork()\n",
        "\n",
        "# run on GPU if available\n",
        "device = torch.device(\"cuda\" if torch.cuda.is_available() else \"cpu\")\n",
        "print('The model runs on: ', device)\n",
        "model.to(device)\n",
        "\n",
        "# updata the dataloaders to run on the same device with the model \n",
        "training_loader = WrappedDataLoaderCustomize(training_loader, device)\n",
        "val_loader= WrappedDataLoaderCustomize(val_loader,  device)\n",
        "test_loader = WrappedDataLoaderCustomize(test_loader,  device)\n",
        "\n",
        "# Init OPTIMIZER (here we use ADAMAX)\n",
        "optimizer = torch.optim.Adamax(\n",
        "    [p for p in model.parameters() if p.requires_grad == True],\n",
        "    lr=lr,\n",
        "    weight_decay=wd,\n",
        ")\n",
        "# names:\n",
        "result_dir = \"/content/gdrive/MyDrive/CI\"\n",
        "name = 'MyNetwork'\n",
        "# Training procedure\n",
        "nll_val, error_val = training_mynetwork(\n",
        "    name=result_dir + name,\n",
        "    max_patience=max_patience,\n",
        "    num_epochs=num_epochs,\n",
        "    model=model,\n",
        "    optimizer=optimizer,\n",
        "    training_loader=training_loader,\n",
        "    val_loader=val_loader,\n",
        ")\n",
        "\n",
        "# The final evaluation (on the test set)\n",
        "test_loss, test_error = evaluation_mynetwork(name=result_dir + name, test_loader=test_loader)\n",
        "# write the results to a file\n",
        "f = open(result_dir + name + \"_test_loss.txt\", \"w\")\n",
        "f.write(\"NLL: \" + str(test_loss) + \"\\nCE: \" + str(test_error))\n",
        "f.close()\n",
        "# create curves\n",
        "plot_curve(\n",
        "    result_dir + name,\n",
        "    nll_val,\n",
        "    file_name=\"_nll_val_curve.pdf\",\n",
        "    ylabel=\"nll\",\n",
        "    test_eval=test_loss,\n",
        ")\n",
        "plot_curve(\n",
        "    result_dir + name,\n",
        "    error_val,\n",
        "    file_name=\"_ca_val_curve.pdf\",\n",
        "    ylabel=\"ce\",\n",
        "    color=\"r-\",\n",
        "    test_eval=test_error,\n",
        ")"
      ]
    },
    {
      "cell_type": "markdown",
      "metadata": {
        "id": "kSQqCLdAj8-4"
      },
      "source": [
        "### 3.4 Architecture with Extra Component"
      ]
    },
    {
      "cell_type": "code",
      "execution_count": 61,
      "metadata": {
        "id": "AMejWAcUkPfY"
      },
      "outputs": [],
      "source": [
        "class MyNetworkWithaTwist(MyNetwork):\n",
        "    def __init__(self):\n",
        "        ''' \n",
        "        This is the same network as above, but with a twist.\n",
        "        First: I added a dropout layer after each max pooling layer.\n",
        "        Second: I added batch normalization after each convolutional block.\n",
        "        The reason for adding dropout is to prevent overfitting.\n",
        "        The reason for adding batch normalization is to make the training faster.\n",
        "        It inherits the conv blocks and log likelihood loss from MyNetwork.\n",
        "        '''\n",
        "        # conv blocks are inherited from MyNetwork\n",
        "        super().__init__()\n",
        "        # dropout layers\n",
        "        self.dropout = nn.Dropout(p=0.2)\n",
        "        # batch normalization layers to the end of each conv block\n",
        "        self.batch_norm_1 = nn.BatchNorm2d(64)\n",
        "        self.batch_norm_2 = nn.BatchNorm2d(128)\n",
        "        self.batch_norm_3 = nn.BatchNorm2d(256)\n",
        "        self.batch_norm_4 = nn.BatchNorm2d(256)\n",
        "        # log likelihood loss are inherited from MyNetwork\n",
        "    \n",
        "    def forward(self, x, y, reduction='avg'):\n",
        "        x = self.conv_block_1(x)\n",
        "        x = self.batch_norm_1(x)\n",
        "        x = self.max_pooling(x)\n",
        "        x = self.dropout(x)\n",
        "        x = self.conv_block_2(x)\n",
        "        x = self.batch_norm_2(x)\n",
        "        x = self.max_pooling(x)\n",
        "        x = self.dropout(x)\n",
        "        x = self.conv_block_3(x)\n",
        "        x = self.batch_norm_3(x)\n",
        "        x = self.max_pooling(x)\n",
        "        x = self.dropout(x)\n",
        "        x = self.conv_block_4(x)\n",
        "        x = self.batch_norm_4(x)\n",
        "        x = self.max_pooling(x)\n",
        "        x = self.dropout(x)\n",
        "        x = x.flatten(1)\n",
        "        x = self.fc_block_classifier(x)\n",
        "\n",
        "        # nll between log-softmax result and the target\n",
        "        loss = self.nll(x, y)\n",
        "\n",
        "        if reduction == \"sum\":\n",
        "            return loss.sum()\n",
        "        else:\n",
        "            return loss.mean()\n",
        "\n",
        "\n",
        "    def classify(self, x):\n",
        "        # Calculate scores of log-softmax\n",
        "        x = self.conv_block_1(x)\n",
        "        x = self.batch_norm_1(x)\n",
        "        x = self.max_pooling(x)\n",
        "        x = self.dropout(x)\n",
        "        x = self.conv_block_2(x)\n",
        "        x = self.batch_norm_2(x)\n",
        "        x = self.max_pooling(x)\n",
        "        x = self.dropout(x)\n",
        "        x = self.conv_block_3(x)\n",
        "        x = self.batch_norm_3(x)\n",
        "        x = self.max_pooling(x)\n",
        "        x = self.dropout(x)\n",
        "        x = self.conv_block_4(x)\n",
        "        x = self.batch_norm_4(x)\n",
        "        x = self.max_pooling(x)\n",
        "        x = self.dropout(x)\n",
        "        x = x.flatten(1)\n",
        "        scores = self.fc_block_classifier(x)\n",
        "        # Predict the label based on highest score\n",
        "        y_pred = scores.argmax(dim=1)\n",
        "        # Cast to long\n",
        "        y_pred = y_pred.long()\n",
        "        return y_pred\n",
        "        \n",
        "\n",
        "\n",
        "        "
      ]
    },
    {
      "cell_type": "code",
      "execution_count": 62,
      "metadata": {
        "colab": {
          "base_uri": "https://localhost:8080/",
          "height": 1000
        },
        "id": "TLqZaH23pmvo",
        "outputId": "74051565-fbae-408b-e97f-6e2d2f09acf9"
      },
      "outputs": [
        {
          "name": "stdout",
          "output_type": "stream",
          "text": [
            "The model runs on:  cuda\n",
            "Epoch: 0, val nll=0.3716004851807866, val ce=0.1094048594048594\n",
            "Epoch: 2, val nll=0.2552181193424547, val ce=0.07295932295932296\n",
            "Epoch: 4, val nll=0.21750434341812733, val ce=0.06115206115206115\n",
            "Epoch: 6, val nll=0.20675027228326395, val ce=0.05303030303030303\n",
            "Epoch: 8, val nll=0.20137383876693338, val ce=0.05384930384930385\n",
            "Epoch: 10, val nll=0.2185057171269816, val ce=0.05036855036855037\n",
            "Epoch: 12, val nll=0.22832191511332672, val ce=0.050505050505050504\n",
            "Epoch: 14, val nll=0.23304265633773608, val ce=0.05002730002730003\n",
            "Epoch: 16, val nll=0.2606351898317364, val ce=0.05548730548730549\n",
            "Epoch: 18, val nll=0.25673510231890767, val ce=0.052484302484302484\n",
            "Epoch: 20, val nll=0.2794550356612529, val ce=0.051597051597051594\n",
            "Epoch: 22, val nll=0.27858830302704046, val ce=0.05303030303030303\n",
            "Epoch: 24, val nll=0.28414761330673677, val ce=0.05111930111930112\n",
            "Epoch: 26, val nll=0.28978493207736183, val ce=0.049754299754299756\n",
            "Epoch: 28, val nll=0.3109785021478935, val ce=0.052757302757302754\n",
            "Epoch: 30, val nll=0.3186965328122007, val ce=0.05241605241605242\n",
            "-> FINAL PERFORMANCE: nll=0.20824914498709157, ce=0.05232022126613399\n"
          ]
        },
        {
          "data": {
            "image/png": "[encoded data removed]",
            "text/plain": [
              "<Figure size 640x480 with 1 Axes>"
            ]
          },
          "metadata": {},
          "output_type": "display_data"
        },
        {
          "data": {
            "image/png": "[encoded data removed]",
            "text/plain": [
              "<Figure size 640x480 with 1 Axes>"
            ]
          },
          "metadata": {},
          "output_type": "display_data"
        }
      ],
      "source": [
        "# initialize the model with a twist\n",
        "model = MyNetworkWithaTwist()\n",
        "\n",
        "# run on GPU if available\n",
        "device = torch.device(\"cuda\" if torch.cuda.is_available() else \"cpu\")\n",
        "print('The model runs on: ', device)\n",
        "model.to(device)\n",
        "\n",
        "# updata the dataloaders to run on the same device with the model\n",
        "training_loader = WrappedDataLoaderCustomize(training_loader, device)\n",
        "val_loader= WrappedDataLoaderCustomize(val_loader,  device)\n",
        "test_loader = WrappedDataLoaderCustomize(test_loader,  device)\n",
        "\n",
        "# Init OPTIMIZER (here we use ADAMAX)\n",
        "optimizer = torch.optim.Adamax(\n",
        "    [p for p in model.parameters() if p.requires_grad == True],\n",
        "    lr=lr,\n",
        "    weight_decay=wd,\n",
        ")\n",
        "# names:\n",
        "result_dir = \"/content/gdrive/MyDrive/CI\"\n",
        "name = 'MyNetworkWithaTwist'\n",
        "# Training procedure\n",
        "nll_val, error_val = training_mynetwork(\n",
        "    name=result_dir + name,\n",
        "    max_patience=max_patience,\n",
        "    num_epochs=num_epochs,\n",
        "    model=model,\n",
        "    optimizer=optimizer,\n",
        "    training_loader=training_loader,\n",
        "    val_loader=val_loader,\n",
        ")\n",
        "\n",
        "# The final evaluation (on the test set)\n",
        "test_loss, test_error = evaluation_mynetwork(name=result_dir + name, test_loader=test_loader)\n",
        "# write the results to a file\n",
        "f = open(result_dir + name + \"_test_loss.txt\", \"w\")\n",
        "f.write(\"NLL: \" + str(test_loss) + \"\\nCE: \" + str(test_error))\n",
        "f.close()\n",
        "# create curves\n",
        "plot_curve(\n",
        "    result_dir + name,\n",
        "    nll_val,\n",
        "    file_name=\"_nll_val_curve.pdf\",\n",
        "    ylabel=\"nll\",\n",
        "    test_eval=test_loss,\n",
        ")\n",
        "plot_curve(\n",
        "    result_dir + name,\n",
        "    error_val,\n",
        "    file_name=\"_ca_val_curve.pdf\",\n",
        "    ylabel=\"ce\",\n",
        "    color=\"r-\",\n",
        "    test_eval=test_error,\n",
        ")"
      ]
    },
    {
      "cell_type": "markdown",
      "metadata": {},
      "source": [
        "### 3.5 Report"
      ]
    },
    {
      "cell_type": "markdown",
      "metadata": {},
      "source": [
        "#### 3.5.1 Architecture and Components"
      ]
    },
    {
      "cell_type": "markdown",
      "metadata": {},
      "source": [
        "As a base to my model proposition I used [VGG16](https://arxiv.org/pdf/1409.1556v6.pdf) architecture. In the following figure the details of the VGG16 can be seen. The reason for me to choose VGG16 as a base architecture is that it is a simple architecture that is easy to implement and understand. Moreover, it is a well known architecture that is used in many CV tasks and it is the winner of ImageNet 2014 competition. \n",
        "\n",
        "<img src=\"VGG16 Architecture Details.jpg\" title=\"VGG\" width=\"400\"/>\n",
        "\n",
        "Here, I only used 4 convolutional blocks and 3 fully connected layers. I did not use the last fully connected layer of VGG16. Instead, I used a fully connected layer with 10 neurons (number of classes). The reason for missing the last convolutional block is that by the end of the convolution 4 block we have done enough downsampling for the input images of size 32x32. Thus, I did not need to use the last convolutional block.\n",
        "\n",
        "Convulational blocks consists of convolutional layers each followed by a ReLU activation function. Each convolutional block is followed by a max pooling layer that downsamples the input by 2. \n",
        "\n",
        "Also the sizes of last fully connected layers are adjusted to the fit our input and desired output of 10 classes.\n",
        "\n",
        "I decided to use batch size of 32 to make it run faster to train. Other hyperparameters are same as the given ones in the assignment.\n",
        "\n",
        "The table below shows the output sizes of the layers in the model.\n",
        "\n",
        "| Layer | Output Size |\n",
        "| --- | --- |\n",
        "| Input | (32, 3, 32, 32) |\n",
        "| Convolutional Block 1 | (32, 64, 32, 32) |\n",
        "| Max Pooling 1 | (32, 64, 16, 16) |\n",
        "| Convolutional Block 2 | (32, 128, 16, 16) |\n",
        "| Max Pooling 2 | (32, 128, 8, 8) |\n",
        "| Convolutional Block 3 | (32, 256, 8, 8) |\n",
        "| Max Pooling 3 | (32, 256, 4, 4) |\n",
        "| Convolutional Block 4 | (32, 256, 2, 2) |\n",
        "| Max Pooling 4 | (32, 256, 1, 1) |\n",
        "| Flatten | (32, 256) |\n",
        "| Fully Connected 1 | (32, 256) |\n",
        "| Fully Connected 2 | (32, 256) |\n",
        "| Fully Connected 3 | (32, 10) |\n",
        "\n",
        "\n",
        "For the extra component, I used dropout and batch normalization. Batch normalization follows the convolutional layers and dropout follows the max pooling layers. Batch normalization helps to normalize the input of the next layer. Dropout helps to prevent overfitting by randomly dropping some neurons. Again their shapes and parameters are adjusted to fit our input and output. \n",
        "\n"
      ]
    },
    {
      "cell_type": "markdown",
      "metadata": {},
      "source": [
        "#### 3.5.2 Result Analysis"
      ]
    },
    {
      "cell_type": "markdown",
      "metadata": {},
      "source": [
        "**1. Loss Function:**\n",
        "\n",
        "We can observe from the plots below that both models achieve a test loss less than 0.26. Initial model achieves 0.26 and the model with extra components achieves 0.208. This indicates that the model with extra components is better to detect probabilities compared to the initial model. Yet both models perform well on the test data. \n",
        "\n",
        "On the validation data, initial model achieves nll=0.246 on 4th epoch lowest and the model with extra components achieves nll=0.201 on 8th epoch lowest. For both of them we can see that they start to overfit or not improve on the validation data after a quite early epochs. \n",
        "\n",
        "However, the one with extra components starts to overfit later than the initial model. This can indicate that my aim to prevent overfitting with extra components of dropout and batch normalization is achieved. \n",
        "\n",
        "<img src=\"output_my_loss.png\" title=\"CNN\" width=\"400\"/>\n",
        "<img src=\"output_with_a_twist_loss.png\" title=\"CNN\" width=\"400\"/>\n",
        "\n",
        "**2. Classification Error:**\n",
        "\n",
        "Pretty much same analysis can be done on the classification error as well. We can observe from the plots below that both models achieve a test error less than 0.07. Initial model achieves 0.068 and the model with extra components achieves 0.052 on test set. This indicates that the model with extra components is better to predict correct class compared to the initial model. Yet both models perform well on the test data and accomplish the task of classifying with less then 0.1 error. \n",
        "\n",
        "On the validation data, initial model achieves ce=0.062 on 12th epoch lowest and the model with extra components achieves ce=0.049 on 26th epoch lowest. For both of them we can see that they start to overfit or not improve on the validation data after a quite early epochs.\n",
        "\n",
        "The other observations are same as above.\n",
        "\n",
        "<img src=\"output_my_error.png\" title=\"CNN\" width=\"400\"/>\n",
        "<img src=\"output_with_a_twist_error.png\" title=\"CNN\" width=\"400\"/>"
      ]
    },
    {
      "cell_type": "code",
      "execution_count": null,
      "metadata": {
        "id": "ZAqvkfTD38kM"
      },
      "outputs": [],
      "source": []
    }
  ],
  "metadata": {
    "accelerator": "GPU",
    "colab": {
      "machine_shape": "hm",
      "provenance": [],
      "toc_visible": true
    },
    "gpuClass": "standard",
    "kernelspec": {
      "display_name": "Python 3.7.10 ('comp411')",
      "language": "python",
      "name": "python3"
    },
    "language_info": {
      "codemirror_mode": {
        "name": "ipython",
        "version": 3
      },
      "file_extension": ".py",
      "mimetype": "text/x-python",
      "name": "python",
      "nbconvert_exporter": "python",
      "pygments_lexer": "ipython3",
      "version": "3.7.10"
    },
    "vscode": {
      "interpreter": {
        "hash": "c40dd6e9603a48eda36538272fd95ed3b36cd00a3b7df7195515789ffdf02208"
      }
    }
  },
  "nbformat": 4,
  "nbformat_minor": 0
}
